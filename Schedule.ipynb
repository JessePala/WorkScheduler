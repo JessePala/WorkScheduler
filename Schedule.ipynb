{
 "cells": [
  {
   "cell_type": "code",
   "execution_count": 108,
   "metadata": {
    "collapsed": true
   },
   "outputs": [],
   "source": [
    "from pandas import Series, DataFrame\n",
    "import pandas as pd\n",
    "import numpy as np\n",
    "import matplotlib.pylab as plt\n",
    "from sklearn.cross_validation import train_test_split\n",
    "from sklearn import preprocessing\n",
    "import dateutil.parser\n",
    "#yourdate = dateutil.parser.parse(datestring)\n",
    "from time import gmtime, strftime"
   ]
  },
  {
   "cell_type": "code",
   "execution_count": 109,
   "metadata": {
    "collapsed": true
   },
   "outputs": [],
   "source": [
    "needed = [\"NAME\", \"MON/WED/FRI (FRIDAYS UNTIL 5:00 PM)\", \"TUE/THU\", \"SATURDAY\", \"SUNDAY\"]"
   ]
  },
  {
   "cell_type": "code",
   "execution_count": 110,
   "metadata": {
    "collapsed": false
   },
   "outputs": [],
   "source": [
    "#ref is column entry, col is column name\n",
    "def check(ref, col):\n",
    "    day = [\"\"]\n",
    "    time = \"\"\n",
    "    #MWF\n",
    "    if col == needed[1]:\n",
    "        day = [days[0], days[2], days[4]]\n",
    "    #TT\n",
    "    elif col == needed[2]:\n",
    "        day = [days[1], days[3]]\n",
    "    #SAT\n",
    "    elif col == needed[3]:\n",
    "        day = [days[5]]\n",
    "    #SUN\n",
    "    elif col == needed[4]:\n",
    "        day = [days[6]]\n",
    "\n",
    "    for i in range(0, len(day)):\n",
    "        #Check if time is empty to avoid comma at the start and build the string\n",
    "        if not time:\n",
    "            time = day[i] + \", \" +duration(day[i], ref)\n",
    "        else:\n",
    "            time = time +\"; \"+ day[i] + \",\" +duration(day[i], ref)\n",
    "    return time\n",
    "\n",
    "    #return day"
   ]
  },
  {
   "cell_type": "code",
   "execution_count": 111,
   "metadata": {
    "collapsed": false
   },
   "outputs": [],
   "source": [
    "def duration(day, reference):\n",
    "    starttime = stoptime = 'null' \n",
    "    #print(\"Entered duration\")\n",
    "    if day.lower() == \"Sunday\".lower() or day.lower() == \"Satuday\".lower():\n",
    "            starttime = stoptime = dateutil.parser.parse(\"12:00AM\").time()  \n",
    "            \n",
    "            if reference.find(\"Afternoon\") != -1:\n",
    "                starttime = dateutil.parser.parse(\"1PM\").time()\n",
    "                if day.lower() == \"Sunday\".lower():\n",
    "                    stoptime = dateutil.parser.parse(\"6PM\") .time() \n",
    "                else:\n",
    "                    stoptime = dateutil.parser.parse(\"5PM\") .time()\n",
    "                    \n",
    "            elif reference.find(\"Closing\") != -1:\n",
    "                starttime = dateutil.parser.parse(\"6PM\").time()\n",
    "                stoptime = dateutil.parser.parse(\"10PM\") .time() \n",
    "                \n",
    "    else:\n",
    "        starttime = stoptime = dateutil.parser.parse(\"12:00AM\").time()\n",
    "        #print(\"Not Sunday or Saturday\")\n",
    "        if reference.find(\"Opening\") != -1:\n",
    "            #print(\"Entered Opening\")\n",
    "            starttime = dateutil.parser.parse(\"7:30AM\").time()\n",
    "            stoptime = dateutil.parser.parse(\"10AM\") .time()   \n",
    "             \n",
    "        elif reference.find(\"Morning\") != -1:\n",
    "            #print(\"Entered Morning\")  \n",
    "            starttime = dateutil.parser.parse(\"10AM\").time()\n",
    "            stoptime = dateutil.parser.parse(\"1PM\") .time() \n",
    "         \n",
    "        elif reference.find(\"Mid Day\") != -1:\n",
    "            #print(\"Entered Mid Day\")  \n",
    "            starttime = dateutil.parser.parse(\"1PM\").time()\n",
    "            if day.lower() == \"Friday\".lower():\n",
    "                stoptime = dateutil.parser.parse(\"5PM\") .time() \n",
    "            else:\n",
    "                stoptime = dateutil.parser.parse(\"4PM\") .time() \n",
    "                \n",
    "        elif reference.find(\"Afternoon\") != -1:\n",
    "            starttime = dateutil.parser.parse(\"4PM\").time()\n",
    "            stoptime = dateutil.parser.parse(\"7PM\") .time() \n",
    "            \n",
    "        elif reference.find(\"Closing\") != -1:\n",
    "            starttime = dateutil.parser.parse(\"7PM\").time()\n",
    "            stoptime = dateutil.parser.parse(\"10PM\") .time() \n",
    "                \n",
    "    timeframe = starttime.strftime(\"%I:%M %p\") + \" - \" + stoptime.strftime(\"%I:%M %p\")            \n",
    "    return timeframe"
   ]
  },
  {
   "cell_type": "code",
   "execution_count": 112,
   "metadata": {
    "collapsed": false
   },
   "outputs": [
    {
     "data": {
      "text/plain": [
       "'04:00 PM - 07:00 PM'"
      ]
     },
     "execution_count": 112,
     "metadata": {},
     "output_type": "execute_result"
    }
   ],
   "source": [
    "duration('Friday', 'Afternoon')"
   ]
  },
  {
   "cell_type": "code",
   "execution_count": 113,
   "metadata": {
    "collapsed": false
   },
   "outputs": [
    {
     "data": {
      "text/plain": [
       "'Monday, 01:00 PM - 04:00 PM; Wednesday,01:00 PM - 04:00 PM; Friday,01:00 PM - 05:00 PM'"
      ]
     },
     "execution_count": 113,
     "metadata": {},
     "output_type": "execute_result"
    }
   ],
   "source": [
    "#Testing Check function\n",
    "check('Mid Day (1pm-4pm) (Fridays 1pm-5pm)','MON/WED/FRI (FRIDAYS UNTIL 5:00 PM)')"
   ]
  },
  {
   "cell_type": "code",
   "execution_count": 114,
   "metadata": {
    "collapsed": false
   },
   "outputs": [
    {
     "data": {
      "text/plain": [
       "'Tuesday, 10:00 AM - 01:00 PM; Thursday,10:00 AM - 01:00 PM'"
      ]
     },
     "execution_count": 114,
     "metadata": {},
     "output_type": "execute_result"
    }
   ],
   "source": [
    "check('Morning (10am-1pm)', 'TUE/THU')"
   ]
  },
  {
   "cell_type": "code",
   "execution_count": 115,
   "metadata": {
    "collapsed": false
   },
   "outputs": [],
   "source": [
    "data = pd.read_csv(\"/Users/Rohit/Desktop/schedule.csv\")\n",
    "data.columns = map(str.upper, data.columns)\n",
    "\n",
    "# Data Management\n",
    "#list(data.columns.values)"
   ]
  },
  {
   "cell_type": "code",
   "execution_count": 116,
   "metadata": {
    "collapsed": false
   },
   "outputs": [],
   "source": [
    "clean_data = data[needed] #Necessary Columns\n",
    "#clean_data"
   ]
  },
  {
   "cell_type": "code",
   "execution_count": 117,
   "metadata": {
    "collapsed": false
   },
   "outputs": [],
   "source": [
    "# Table (Name, Availability) columns for each section\n",
    "for i in range(1, clean_data.shape[1]):\n",
    "    temp = clean_data[pd.notnull(clean_data[needed[i]])]\n",
    "    \n",
    "    #Needed data at a time\n",
    "    col = [needed[0], needed[i]]\n",
    "    temp = temp[col] \n",
    "    \n",
    "    #Splitting shifts initially from csv dataframe import\n",
    "    s = temp[needed[i]].str.split(',').apply(Series, 1).stack()\n",
    "    s.index = s.index.droplevel(-1)\n",
    "    s.name = needed[i]\n",
    "    del temp[needed[i]]\n",
    "    temp = temp.join(s).reset_index(drop=True)\n",
    "    \n",
    "    #Applying check() to convert to readable form for every row (shape[0])\n",
    "    for j in range(0, temp.shape[0]): \n",
    "        #Cleaning the 2nd column\n",
    "        temp.at[j, needed[i]] =  check(temp.at[j, needed[i]], needed[i]) #check(reference, day)\n",
    "        #Splitting single availability column to day-by-day columns\n",
    "        new = pd.DataFrame(temp[needed[i]].apply(lambda x: x.split('; ')).values.tolist())\n",
    "        #Merge the day-by-day with the name column to get the desired result\n",
    "        result = pd.concat([temp[needed[0]], new], axis=1)\n",
    "        \n",
    "        \n",
    "    #Test Case\n",
    "    if(i == 1):\n",
    "        mwf = result\n",
    "    elif(i == 2):\n",
    "        tt = result\n",
    "    elif(i == 3):\n",
    "        sat = result\n",
    "    elif(i == 4):\n",
    "        sun = result\n",
    "\n",
    "#mwf"
   ]
  },
  {
   "cell_type": "code",
   "execution_count": 118,
   "metadata": {
    "collapsed": false
   },
   "outputs": [
    {
     "data": {
      "text/plain": [
       "'Monday'"
      ]
     },
     "execution_count": 118,
     "metadata": {},
     "output_type": "execute_result"
    }
   ],
   "source": [
    "#Monday\n",
    "mon = mwf[[needed[0], 0]]\n",
    "#Wednesday\n",
    "wed = mwf[[needed[0], 1]]\n",
    "#Friday\n",
    "fri = mwf[[needed[0], 2]]\n",
    "#Tuesday\n",
    "tue = tt[[needed[0], 0]]\n",
    "#Thursday\n",
    "thu = tt[[needed[0], 1]]\n",
    "\n",
    "week = [mon, tue, wed, thu, fri, sat, sun]\n",
    "counter = 0 \n",
    "weekname = ['Monday', 'Tuesday', 'Wednesday', 'Thursday', 'Friday', 'Saturday', 'Sunday']\n",
    "weekname[0]"
   ]
  },
  {
   "cell_type": "code",
   "execution_count": 119,
   "metadata": {
    "collapsed": false
   },
   "outputs": [],
   "source": [
    "def daysplit(ref):\n",
    "    return ref.split(\",\")[1]\n",
    "\n",
    "def starttime(ref):\n",
    "    return dateutil.parser.parse(ref.split(\"-\")[0]).time()\n",
    "\n",
    "def stoptime(ref):\n",
    "    return dateutil.parser.parse(ref.split(\"-\")[1]).time()"
   ]
  },
  {
   "cell_type": "code",
   "execution_count": 120,
   "metadata": {
    "collapsed": false
   },
   "outputs": [
    {
     "data": {
      "text/plain": [
       "datetime.time(7, 30)"
      ]
     },
     "execution_count": 120,
     "metadata": {},
     "output_type": "execute_result"
    }
   ],
   "source": [
    "starttime(daysplit(\"Monday, 07:30 AM - 10:00 AM\"))"
   ]
  },
  {
   "cell_type": "code",
   "execution_count": 121,
   "metadata": {
    "collapsed": false
   },
   "outputs": [
    {
     "data": {
      "text/plain": [
       "datetime.time(16, 0)"
      ]
     },
     "execution_count": 121,
     "metadata": {},
     "output_type": "execute_result"
    }
   ],
   "source": [
    "stoptime(daysplit(\"Monday, 01:00 PM - 04:00 PM\"))"
   ]
  },
  {
   "cell_type": "code",
   "execution_count": 122,
   "metadata": {
    "collapsed": false,
    "scrolled": false
   },
   "outputs": [
    {
     "name": "stderr",
     "output_type": "stream",
     "text": [
      "//anaconda/lib/python3.5/site-packages/pandas/core/indexing.py:128: SettingWithCopyWarning: \n",
      "A value is trying to be set on a copy of a slice from a DataFrame\n",
      "\n",
      "See the caveats in the documentation: http://pandas.pydata.org/pandas-docs/stable/indexing.html#indexing-view-versus-copy\n",
      "  self._setitem_with_indexer(indexer, value)\n",
      "//anaconda/lib/python3.5/site-packages/ipykernel/__main__.py:9: SettingWithCopyWarning: \n",
      "A value is trying to be set on a copy of a slice from a DataFrame\n",
      "\n",
      "See the caveats in the documentation: http://pandas.pydata.org/pandas-docs/stable/indexing.html#indexing-view-versus-copy\n",
      "//anaconda/lib/python3.5/site-packages/ipykernel/__main__.py:10: SettingWithCopyWarning: \n",
      "A value is trying to be set on a copy of a slice from a DataFrame.\n",
      "Try using .loc[row_indexer,col_indexer] = value instead\n",
      "\n",
      "See the caveats in the documentation: http://pandas.pydata.org/pandas-docs/stable/indexing.html#indexing-view-versus-copy\n"
     ]
    },
    {
     "name": "stdout",
     "output_type": "stream",
     "text": [
      "                     NAME                     0     START      STOP\n",
      "0             Davis Allen   07:30 AM - 10:00 AM  07:30:00  10:00:00\n",
      "1   Dante Dalla Gasperina   07:30 AM - 10:00 AM  07:30:00  10:00:00\n",
      "11         Jessica Battad   07:30 AM - 10:00 AM  07:30:00  10:00:00\n",
      "27           Parker Gribb   07:30 AM - 10:00 AM  07:30:00  10:00:00\n",
      "17         Andrew Schmidt   10:00 AM - 01:00 PM  10:00:00  13:00:00\n",
      "14           Pranav Bheda   10:00 AM - 01:00 PM  10:00:00  13:00:00\n",
      "12         Jessica Battad   10:00 AM - 01:00 PM  10:00:00  13:00:00\n",
      "23     Sanjay Tamizharasu   10:00 AM - 01:00 PM  10:00:00  13:00:00\n",
      "21          Robert Scalzo   10:00 AM - 01:00 PM  10:00:00  13:00:00\n",
      "5          Grecia Escobar   10:00 AM - 01:00 PM  10:00:00  13:00:00\n",
      "3                 JT Tran   10:00 AM - 01:00 PM  10:00:00  13:00:00\n",
      "9       Francesco Petrini   01:00 PM - 04:00 PM  13:00:00  16:00:00\n",
      "6          Grecia Escobar   01:00 PM - 04:00 PM  13:00:00  16:00:00\n",
      "4                 JT Tran   01:00 PM - 04:00 PM  13:00:00  16:00:00\n",
      "13      Deion Graham-Long   01:00 PM - 04:00 PM  13:00:00  16:00:00\n",
      "29  Tristan Nortier-Tilly   01:00 PM - 04:00 PM  13:00:00  16:00:00\n",
      "24     Sanjay Tamizharasu   01:00 PM - 04:00 PM  13:00:00  16:00:00\n",
      "2   Dante Dalla Gasperina   01:00 PM - 04:00 PM  13:00:00  16:00:00\n",
      "18         Andrew Schmidt   01:00 PM - 04:00 PM  13:00:00  16:00:00\n",
      "28           Parker Gribb   01:00 PM - 04:00 PM  13:00:00  16:00:00\n",
      "25          Daniel Jensen   01:00 PM - 04:00 PM  13:00:00  16:00:00\n",
      "15           Pranav Bheda   04:00 PM - 07:00 PM  16:00:00  19:00:00\n",
      "16       Brendan Appelman   04:00 PM - 07:00 PM  16:00:00  19:00:00\n",
      "10      Francesco Petrini   04:00 PM - 07:00 PM  16:00:00  19:00:00\n",
      "7           Stewart Allen   04:00 PM - 07:00 PM  16:00:00  19:00:00\n",
      "30  Tristan Nortier-Tilly   04:00 PM - 07:00 PM  16:00:00  19:00:00\n",
      "22          Robert Scalzo   07:00 PM - 10:00 PM  19:00:00  22:00:00\n",
      "19        Natalie Neumann   07:00 PM - 10:00 PM  19:00:00  22:00:00\n",
      "26        Dominic Komarek   07:00 PM - 10:00 PM  19:00:00  22:00:00\n",
      "8           Stewart Allen   07:00 PM - 10:00 PM  19:00:00  22:00:00\n",
      "20        Tasmine Hackson   07:00 PM - 10:00 PM  19:00:00  22:00:00\n",
      "                     NAME                     0     START      STOP\n",
      "0             Davis Allen   07:30 AM - 10:00 AM  07:30:00  10:00:00\n",
      "3          Grecia Escobar   07:30 AM - 10:00 AM  07:30:00  10:00:00\n",
      "5           Stewart Allen   07:30 AM - 10:00 AM  07:30:00  10:00:00\n",
      "28           Parker Gribb   07:30 AM - 10:00 AM  07:30:00  10:00:00\n",
      "20        Natalie Neumann   07:30 AM - 10:00 AM  07:30:00  10:00:00\n",
      "12         Jessica Battad   07:30 AM - 10:00 AM  07:30:00  10:00:00\n",
      "1             Davis Allen   10:00 AM - 01:00 PM  10:00:00  13:00:00\n",
      "4          Grecia Escobar   10:00 AM - 01:00 PM  10:00:00  13:00:00\n",
      "30              Andrew Yu   10:00 AM - 01:00 PM  10:00:00  13:00:00\n",
      "24     Sanjay Tamizharasu   10:00 AM - 01:00 PM  10:00:00  13:00:00\n",
      "21        Natalie Neumann   10:00 AM - 01:00 PM  10:00:00  13:00:00\n",
      "33  Tristan Nortier-Tilly   10:00 AM - 01:00 PM  10:00:00  13:00:00\n",
      "15           Pranav Bheda   10:00 AM - 01:00 PM  10:00:00  13:00:00\n",
      "31              Andrew Yu   01:00 PM - 04:00 PM  13:00:00  16:00:00\n",
      "25     Sanjay Tamizharasu   01:00 PM - 04:00 PM  13:00:00  16:00:00\n",
      "19         Andrew Schmidt   01:00 PM - 04:00 PM  13:00:00  16:00:00\n",
      "34  Tristan Nortier-Tilly   01:00 PM - 04:00 PM  13:00:00  16:00:00\n",
      "13      Deion Graham-Long   01:00 PM - 04:00 PM  13:00:00  16:00:00\n",
      "2   Dante Dalla Gasperina   01:00 PM - 04:00 PM  13:00:00  16:00:00\n",
      "6           Stewart Allen   01:00 PM - 04:00 PM  13:00:00  16:00:00\n",
      "9       Francesco Petrini   01:00 PM - 04:00 PM  13:00:00  16:00:00\n",
      "14      Deion Graham-Long   04:00 PM - 07:00 PM  16:00:00  19:00:00\n",
      "32              Andrew Yu   04:00 PM - 07:00 PM  16:00:00  19:00:00\n",
      "10      Francesco Petrini   04:00 PM - 07:00 PM  16:00:00  19:00:00\n",
      "22          Robert Scalzo   04:00 PM - 07:00 PM  16:00:00  19:00:00\n",
      "16           Pranav Bheda   04:00 PM - 07:00 PM  16:00:00  19:00:00\n",
      "26        Dominic Komarek   04:00 PM - 07:00 PM  16:00:00  19:00:00\n",
      "7           Stewart Allen   04:00 PM - 07:00 PM  16:00:00  19:00:00\n",
      "29           Parker Gribb   07:00 PM - 10:00 PM  19:00:00  22:00:00\n",
      "8           Stewart Allen   07:00 PM - 10:00 PM  19:00:00  22:00:00\n",
      "23          Robert Scalzo   07:00 PM - 10:00 PM  19:00:00  22:00:00\n",
      "11      Francesco Petrini   07:00 PM - 10:00 PM  19:00:00  22:00:00\n",
      "18       Brendan Appelman   07:00 PM - 10:00 PM  19:00:00  22:00:00\n",
      "27        Dominic Komarek   07:00 PM - 10:00 PM  19:00:00  22:00:00\n",
      "17           Pranav Bheda   07:00 PM - 10:00 PM  19:00:00  22:00:00\n",
      "                     NAME                    1     START      STOP\n",
      "0             Davis Allen  07:30 AM - 10:00 AM  07:30:00  10:00:00\n",
      "1   Dante Dalla Gasperina  07:30 AM - 10:00 AM  07:30:00  10:00:00\n",
      "11         Jessica Battad  07:30 AM - 10:00 AM  07:30:00  10:00:00\n",
      "27           Parker Gribb  07:30 AM - 10:00 AM  07:30:00  10:00:00\n",
      "17         Andrew Schmidt  10:00 AM - 01:00 PM  10:00:00  13:00:00\n",
      "14           Pranav Bheda  10:00 AM - 01:00 PM  10:00:00  13:00:00\n",
      "12         Jessica Battad  10:00 AM - 01:00 PM  10:00:00  13:00:00\n",
      "23     Sanjay Tamizharasu  10:00 AM - 01:00 PM  10:00:00  13:00:00\n",
      "21          Robert Scalzo  10:00 AM - 01:00 PM  10:00:00  13:00:00\n",
      "5          Grecia Escobar  10:00 AM - 01:00 PM  10:00:00  13:00:00\n",
      "3                 JT Tran  10:00 AM - 01:00 PM  10:00:00  13:00:00\n",
      "9       Francesco Petrini  01:00 PM - 04:00 PM  13:00:00  16:00:00\n",
      "6          Grecia Escobar  01:00 PM - 04:00 PM  13:00:00  16:00:00\n",
      "4                 JT Tran  01:00 PM - 04:00 PM  13:00:00  16:00:00\n",
      "13      Deion Graham-Long  01:00 PM - 04:00 PM  13:00:00  16:00:00\n",
      "29  Tristan Nortier-Tilly  01:00 PM - 04:00 PM  13:00:00  16:00:00\n",
      "24     Sanjay Tamizharasu  01:00 PM - 04:00 PM  13:00:00  16:00:00\n",
      "2   Dante Dalla Gasperina  01:00 PM - 04:00 PM  13:00:00  16:00:00\n",
      "18         Andrew Schmidt  01:00 PM - 04:00 PM  13:00:00  16:00:00\n",
      "28           Parker Gribb  01:00 PM - 04:00 PM  13:00:00  16:00:00\n",
      "25          Daniel Jensen  01:00 PM - 04:00 PM  13:00:00  16:00:00\n",
      "15           Pranav Bheda  04:00 PM - 07:00 PM  16:00:00  19:00:00\n",
      "16       Brendan Appelman  04:00 PM - 07:00 PM  16:00:00  19:00:00\n",
      "10      Francesco Petrini  04:00 PM - 07:00 PM  16:00:00  19:00:00\n",
      "7           Stewart Allen  04:00 PM - 07:00 PM  16:00:00  19:00:00\n",
      "30  Tristan Nortier-Tilly  04:00 PM - 07:00 PM  16:00:00  19:00:00\n",
      "22          Robert Scalzo  07:00 PM - 10:00 PM  19:00:00  22:00:00\n",
      "19        Natalie Neumann  07:00 PM - 10:00 PM  19:00:00  22:00:00\n",
      "26        Dominic Komarek  07:00 PM - 10:00 PM  19:00:00  22:00:00\n",
      "8           Stewart Allen  07:00 PM - 10:00 PM  19:00:00  22:00:00\n",
      "20        Tasmine Hackson  07:00 PM - 10:00 PM  19:00:00  22:00:00\n",
      "                     NAME                    1     START      STOP\n",
      "0             Davis Allen  07:30 AM - 10:00 AM  07:30:00  10:00:00\n",
      "3          Grecia Escobar  07:30 AM - 10:00 AM  07:30:00  10:00:00\n",
      "5           Stewart Allen  07:30 AM - 10:00 AM  07:30:00  10:00:00\n",
      "28           Parker Gribb  07:30 AM - 10:00 AM  07:30:00  10:00:00\n",
      "20        Natalie Neumann  07:30 AM - 10:00 AM  07:30:00  10:00:00\n",
      "12         Jessica Battad  07:30 AM - 10:00 AM  07:30:00  10:00:00\n",
      "1             Davis Allen  10:00 AM - 01:00 PM  10:00:00  13:00:00\n",
      "4          Grecia Escobar  10:00 AM - 01:00 PM  10:00:00  13:00:00\n",
      "30              Andrew Yu  10:00 AM - 01:00 PM  10:00:00  13:00:00\n",
      "24     Sanjay Tamizharasu  10:00 AM - 01:00 PM  10:00:00  13:00:00\n",
      "21        Natalie Neumann  10:00 AM - 01:00 PM  10:00:00  13:00:00\n",
      "33  Tristan Nortier-Tilly  10:00 AM - 01:00 PM  10:00:00  13:00:00\n",
      "15           Pranav Bheda  10:00 AM - 01:00 PM  10:00:00  13:00:00\n",
      "31              Andrew Yu  01:00 PM - 04:00 PM  13:00:00  16:00:00\n",
      "25     Sanjay Tamizharasu  01:00 PM - 04:00 PM  13:00:00  16:00:00\n",
      "19         Andrew Schmidt  01:00 PM - 04:00 PM  13:00:00  16:00:00\n",
      "34  Tristan Nortier-Tilly  01:00 PM - 04:00 PM  13:00:00  16:00:00\n",
      "13      Deion Graham-Long  01:00 PM - 04:00 PM  13:00:00  16:00:00\n",
      "2   Dante Dalla Gasperina  01:00 PM - 04:00 PM  13:00:00  16:00:00\n",
      "6           Stewart Allen  01:00 PM - 04:00 PM  13:00:00  16:00:00\n",
      "9       Francesco Petrini  01:00 PM - 04:00 PM  13:00:00  16:00:00\n",
      "14      Deion Graham-Long  04:00 PM - 07:00 PM  16:00:00  19:00:00\n",
      "32              Andrew Yu  04:00 PM - 07:00 PM  16:00:00  19:00:00\n",
      "10      Francesco Petrini  04:00 PM - 07:00 PM  16:00:00  19:00:00\n",
      "22          Robert Scalzo  04:00 PM - 07:00 PM  16:00:00  19:00:00\n",
      "16           Pranav Bheda  04:00 PM - 07:00 PM  16:00:00  19:00:00\n",
      "26        Dominic Komarek  04:00 PM - 07:00 PM  16:00:00  19:00:00\n",
      "7           Stewart Allen  04:00 PM - 07:00 PM  16:00:00  19:00:00\n",
      "29           Parker Gribb  07:00 PM - 10:00 PM  19:00:00  22:00:00\n",
      "8           Stewart Allen  07:00 PM - 10:00 PM  19:00:00  22:00:00\n",
      "23          Robert Scalzo  07:00 PM - 10:00 PM  19:00:00  22:00:00\n",
      "11      Francesco Petrini  07:00 PM - 10:00 PM  19:00:00  22:00:00\n",
      "18       Brendan Appelman  07:00 PM - 10:00 PM  19:00:00  22:00:00\n",
      "27        Dominic Komarek  07:00 PM - 10:00 PM  19:00:00  22:00:00\n",
      "17           Pranav Bheda  07:00 PM - 10:00 PM  19:00:00  22:00:00\n",
      "                     NAME                    2     START      STOP\n",
      "0             Davis Allen  07:30 AM - 10:00 AM  07:30:00  10:00:00\n",
      "1   Dante Dalla Gasperina  07:30 AM - 10:00 AM  07:30:00  10:00:00\n",
      "11         Jessica Battad  07:30 AM - 10:00 AM  07:30:00  10:00:00\n",
      "27           Parker Gribb  07:30 AM - 10:00 AM  07:30:00  10:00:00\n",
      "17         Andrew Schmidt  10:00 AM - 01:00 PM  10:00:00  13:00:00\n",
      "14           Pranav Bheda  10:00 AM - 01:00 PM  10:00:00  13:00:00\n",
      "12         Jessica Battad  10:00 AM - 01:00 PM  10:00:00  13:00:00\n",
      "23     Sanjay Tamizharasu  10:00 AM - 01:00 PM  10:00:00  13:00:00\n",
      "21          Robert Scalzo  10:00 AM - 01:00 PM  10:00:00  13:00:00\n",
      "5          Grecia Escobar  10:00 AM - 01:00 PM  10:00:00  13:00:00\n",
      "3                 JT Tran  10:00 AM - 01:00 PM  10:00:00  13:00:00\n",
      "9       Francesco Petrini  01:00 PM - 05:00 PM  13:00:00  17:00:00\n",
      "6          Grecia Escobar  01:00 PM - 05:00 PM  13:00:00  17:00:00\n",
      "4                 JT Tran  01:00 PM - 05:00 PM  13:00:00  17:00:00\n",
      "13      Deion Graham-Long  01:00 PM - 05:00 PM  13:00:00  17:00:00\n",
      "29  Tristan Nortier-Tilly  01:00 PM - 05:00 PM  13:00:00  17:00:00\n",
      "24     Sanjay Tamizharasu  01:00 PM - 05:00 PM  13:00:00  17:00:00\n",
      "2   Dante Dalla Gasperina  01:00 PM - 05:00 PM  13:00:00  17:00:00\n",
      "18         Andrew Schmidt  01:00 PM - 05:00 PM  13:00:00  17:00:00\n",
      "28           Parker Gribb  01:00 PM - 05:00 PM  13:00:00  17:00:00\n",
      "25          Daniel Jensen  01:00 PM - 05:00 PM  13:00:00  17:00:00\n",
      "15           Pranav Bheda  04:00 PM - 07:00 PM  16:00:00  19:00:00\n",
      "16       Brendan Appelman  04:00 PM - 07:00 PM  16:00:00  19:00:00\n",
      "10      Francesco Petrini  04:00 PM - 07:00 PM  16:00:00  19:00:00\n",
      "7           Stewart Allen  04:00 PM - 07:00 PM  16:00:00  19:00:00\n",
      "30  Tristan Nortier-Tilly  04:00 PM - 07:00 PM  16:00:00  19:00:00\n",
      "22          Robert Scalzo  07:00 PM - 10:00 PM  19:00:00  22:00:00\n",
      "19        Natalie Neumann  07:00 PM - 10:00 PM  19:00:00  22:00:00\n",
      "26        Dominic Komarek  07:00 PM - 10:00 PM  19:00:00  22:00:00\n",
      "8           Stewart Allen  07:00 PM - 10:00 PM  19:00:00  22:00:00\n",
      "20        Tasmine Hackson  07:00 PM - 10:00 PM  19:00:00  22:00:00\n",
      "                NAME                     0     START      STOP\n",
      "0      Stewart Allen   04:00 PM - 07:00 PM  16:00:00  19:00:00\n",
      "1  Deion Graham-Long   04:00 PM - 07:00 PM  16:00:00  19:00:00\n",
      "2      Robert Scalzo   04:00 PM - 07:00 PM  16:00:00  19:00:00\n",
      "3      Daniel Jensen   04:00 PM - 07:00 PM  16:00:00  19:00:00\n",
      "                     NAME                     0     START      STOP\n",
      "0           Stewart Allen   01:00 PM - 06:00 PM  13:00:00  18:00:00\n",
      "1       Deion Graham-Long   01:00 PM - 06:00 PM  13:00:00  18:00:00\n",
      "2          Andrew Schmidt   01:00 PM - 06:00 PM  13:00:00  18:00:00\n",
      "5         Tasmine Hackson   01:00 PM - 06:00 PM  13:00:00  18:00:00\n",
      "7           Robert Scalzo   01:00 PM - 06:00 PM  13:00:00  18:00:00\n",
      "10          Daniel Jensen   01:00 PM - 06:00 PM  13:00:00  18:00:00\n",
      "3          Andrew Schmidt   06:00 PM - 10:00 PM  18:00:00  22:00:00\n",
      "4         Natalie Neumann   06:00 PM - 10:00 PM  18:00:00  22:00:00\n",
      "6         Tasmine Hackson   06:00 PM - 10:00 PM  18:00:00  22:00:00\n",
      "8           Robert Scalzo   06:00 PM - 10:00 PM  18:00:00  22:00:00\n",
      "9      Sanjay Tamizharasu   06:00 PM - 10:00 PM  18:00:00  22:00:00\n",
      "11          Daniel Jensen   06:00 PM - 10:00 PM  18:00:00  22:00:00\n",
      "12           Parker Gribb   06:00 PM - 10:00 PM  18:00:00  22:00:00\n",
      "13  Tristan Nortier-Tilly   06:00 PM - 10:00 PM  18:00:00  22:00:00\n"
     ]
    }
   ],
   "source": [
    "\n",
    "#outfile \n",
    "for day in week: \n",
    "    for i in range(0, len(day)):\n",
    "        #day[day.columns[1]].str.replace(day[day.columns[1]], day[day.columns[1]].str.split(',')[i][1])\n",
    "        #WORKS! \n",
    "        #day[day.columns[1]].apply(lambda x: finalsplitter(x))\n",
    "        \n",
    "        day.loc[i,day.columns[1]] = daysplit(day.loc[i,day.columns[1]])\n",
    "        day[\"START\"] = day[day.columns[1]].apply(lambda x: starttime(x))\n",
    "        day[\"STOP\"] = day[day.columns[1]].apply(lambda x: stoptime(x))\n",
    "    new = day.sort_values(by=\"START\")\n",
    "    day = new\n",
    "    day.to_csv(r\"/Users/Rohit/Desktop/%s.txt\" % str(weekname[counter]), header='\\n', index=None, mode='a', sep='\\t')\n",
    "    day.to_html(r\"/Users/Rohit/Desktop/%s.txt\" % str(weekname[counter]))\n",
    "    counter = counter + 1\n",
    "    print(day)\n",
    "    \n",
    "    \n",
    "f.close()\n",
    "#"
   ]
  },
  {
   "cell_type": "code",
   "execution_count": null,
   "metadata": {
    "collapsed": true
   },
   "outputs": [],
   "source": []
  }
 ],
 "metadata": {
  "kernelspec": {
   "display_name": "Python 3",
   "language": "python",
   "name": "python3"
  },
  "language_info": {
   "codemirror_mode": {
    "name": "ipython",
    "version": 3
   },
   "file_extension": ".py",
   "mimetype": "text/x-python",
   "name": "python",
   "nbconvert_exporter": "python",
   "pygments_lexer": "ipython3",
   "version": "3.5.1"
  }
 },
 "nbformat": 4,
 "nbformat_minor": 0
}

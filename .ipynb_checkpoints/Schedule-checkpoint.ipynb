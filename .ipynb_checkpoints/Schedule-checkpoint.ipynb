{
 "cells": [
  {
   "cell_type": "code",
   "execution_count": 4,
   "metadata": {
    "collapsed": true
   },
   "outputs": [],
   "source": [
    "from pandas import Series, DataFrame\n",
    "import pandas as pd\n",
    "import numpy as np\n",
    "import matplotlib.pylab as plt\n",
    "from sklearn.cross_validation import train_test_split\n",
    "from sklearn import preprocessing\n",
    "import dateutil.parser\n",
    "#yourdate = dateutil.parser.parse(datestring)\n",
    "from time import gmtime, strftime\n"
   ]
  },
  {
   "cell_type": "code",
   "execution_count": 5,
   "metadata": {
    "collapsed": true
   },
   "outputs": [],
   "source": [
    "needed = [\"NAME\", \"MON/WED/FRI (FRIDAYS UNTIL 5:00 PM)\", \"TUE/THU\", \"SATURDAY\", \"SUNDAY\"]\n",
    "days = [\"Monday\", \"Tuesday\", \"Wednesday\", \"Thursday\", \"Friday\", \"Saturday\", \"Sunday\"]\n",
    "mon = pd.DataFrame()\n",
    "tue = pd.DataFrame()\n",
    "wed = pd.DataFrame()\n",
    "thurs = pd.DataFrame()\n",
    "fri = pd.DataFrame()\n",
    "sat = pd.DataFrame()\n",
    "sun = pd.DataFrame()"
   ]
  },
  {
   "cell_type": "code",
   "execution_count": 6,
   "metadata": {
    "collapsed": false
   },
   "outputs": [],
   "source": [
    "#ref is column entry, col is column name\n",
    "def check(ref, col):\n",
    "    day = [\"\"]\n",
    "    time = \"\"\n",
    "    #MWF\n",
    "    if col == needed[1]:\n",
    "        day = [days[0], days[2], days[4]]\n",
    "    #TT\n",
    "    elif col == needed[2]:\n",
    "        day = [days[1], days[3]]\n",
    "    #SAT\n",
    "    elif col == needed[3]:\n",
    "        day = [days[5]]\n",
    "    #SUN\n",
    "    elif col == needed[4]:\n",
    "        day = [days[6]]\n",
    "\n",
    "    for i in range(0, len(day)):\n",
    "        #Check if time is empty to avoid comma at the start and build the string\n",
    "        if not time:\n",
    "            time = day[i] + \" \" +duration(day[i], ref)\n",
    "        else:\n",
    "            time = time +\", \"+ day[i] + \" \" +duration(day[i], ref)\n",
    "    return time\n",
    "\n",
    "    #return day"
   ]
  },
  {
   "cell_type": "code",
   "execution_count": 7,
   "metadata": {
    "collapsed": false
   },
   "outputs": [],
   "source": [
    "def duration(day, reference):\n",
    "    starttime = stoptime = 'null' \n",
    "    #print(\"Entered duration\")\n",
    "    if day.lower() == \"Sunday\".lower() or day.lower() == \"Satuday\".lower():\n",
    "            starttime = stoptime = dateutil.parser.parse(\"12:01AM\").time()  \n",
    "            \n",
    "            if reference.find(\"Afternoon\") != -1:\n",
    "                starttime = dateutil.parser.parse(\"1PM\").time()\n",
    "                if day.lower() == \"Sunday\".lower():\n",
    "                    stoptime = dateutil.parser.parse(\"6PM\") .time() \n",
    "                else:\n",
    "                    stoptime = dateutil.parser.parse(\"5PM\") .time()\n",
    "                    \n",
    "            elif reference.find(\"Closing\") != -1:\n",
    "                starttime = dateutil.parser.parse(\"6PM\").time()\n",
    "                stoptime = dateutil.parser.parse(\"10PM\") .time() \n",
    "                \n",
    "    else:\n",
    "        starttime = stoptime = dateutil.parser.parse(\"12:00AM\").time()\n",
    "        #print(\"Not Sunday or Saturday\")\n",
    "        if reference.find(\"Opening\") != -1:\n",
    "            #print(\"Entered Opening\")\n",
    "            starttime = dateutil.parser.parse(\"7:30AM\").time()\n",
    "            stoptime = dateutil.parser.parse(\"10AM\") .time()   \n",
    "             \n",
    "        elif reference.find(\"Morning\") != -1:\n",
    "            #print(\"Entered Morning\")  \n",
    "            starttime = dateutil.parser.parse(\"10AM\").time()\n",
    "            stoptime = dateutil.parser.parse(\"1PM\") .time() \n",
    "         \n",
    "        elif reference.find(\"Mid Day\") != -1:\n",
    "            #print(\"Entered Mid Day\")  \n",
    "            starttime = dateutil.parser.parse(\"1PM\").time()\n",
    "            if day.lower() == \"Friday\".lower():\n",
    "                stoptime = dateutil.parser.parse(\"5PM\") .time() \n",
    "            else:\n",
    "                stoptime = dateutil.parser.parse(\"4PM\") .time() \n",
    "                \n",
    "        elif reference.find(\"Afternoon\") != -1:\n",
    "            starttime = dateutil.parser.parse(\"4PM\").time()\n",
    "            stoptime = dateutil.parser.parse(\"7PM\") .time() \n",
    "            \n",
    "        elif reference.find(\"Closing\") != -1:\n",
    "            starttime = dateutil.parser.parse(\"7PM\").time()\n",
    "            stoptime = dateutil.parser.parse(\"10PM\") .time() \n",
    "                \n",
    "    timeframe = starttime.strftime(\"%I:%M %p\") + \" - \" + stoptime.strftime(\"%I:%M %p\")            \n",
    "    return timeframe"
   ]
  },
  {
   "cell_type": "code",
   "execution_count": 8,
   "metadata": {
    "collapsed": false
   },
   "outputs": [
    {
     "data": {
      "text/plain": [
       "'04:00 PM - 07:00 PM'"
      ]
     },
     "execution_count": 8,
     "metadata": {},
     "output_type": "execute_result"
    }
   ],
   "source": [
    "duration('Friday', 'Afternoon')"
   ]
  },
  {
   "cell_type": "code",
   "execution_count": 9,
   "metadata": {
    "collapsed": false
   },
   "outputs": [
    {
     "data": {
      "text/plain": [
       "'Monday 01:00 PM - 04:00 PM, Wednesday 01:00 PM - 04:00 PM, Friday 01:00 PM - 05:00 PM'"
      ]
     },
     "execution_count": 9,
     "metadata": {},
     "output_type": "execute_result"
    }
   ],
   "source": [
    "#Testing Check function\n",
    "check('Mid Day (1pm-4pm) (Fridays 1pm-5pm)','MON/WED/FRI (FRIDAYS UNTIL 5:00 PM)')"
   ]
  },
  {
   "cell_type": "code",
   "execution_count": 10,
   "metadata": {
    "collapsed": false
   },
   "outputs": [
    {
     "data": {
      "text/plain": [
       "'Tuesday 10:00 AM - 01:00 PM, Thursday 10:00 AM - 01:00 PM'"
      ]
     },
     "execution_count": 10,
     "metadata": {},
     "output_type": "execute_result"
    }
   ],
   "source": [
    "check('Morning (10am-1pm)', 'TUE/THU')"
   ]
  },
  {
   "cell_type": "code",
   "execution_count": 11,
   "metadata": {
    "collapsed": false
   },
   "outputs": [
    {
     "data": {
      "text/plain": [
       "['TIMESTAMP',\n",
       " 'USERNAME',\n",
       " 'NAME',\n",
       " 'HOW MANY HOURS WOULD YOU LIKE TO WORK DURING THE WEEK?',\n",
       " 'MONDAY',\n",
       " 'TUESDAY',\n",
       " 'WEDNESDAY',\n",
       " 'THURSDAY',\n",
       " 'FRIDAY',\n",
       " 'DO YOU HAVE ANY ADDITIONAL ACADEMIC OBLIGATIONS, I.E. LABS, CLUBS, SPORTS...? (PLEASE PROVIDE SPECIFIC DATES/TIMES)',\n",
       " 'MON/WED/FRI (FRIDAYS UNTIL 5:00 PM)',\n",
       " 'TUE/THU',\n",
       " 'SATURDAY',\n",
       " 'SUNDAY',\n",
       " 'ADDITIONAL COMMENTS/REQUESTS FOR YOUR FALL WORK SCHEDULE?']"
      ]
     },
     "execution_count": 11,
     "metadata": {},
     "output_type": "execute_result"
    }
   ],
   "source": [
    "data = pd.read_csv(\"/Users/Rohit/Desktop/schedule.csv\")\n",
    "data.columns = map(str.upper, data.columns)\n",
    "\n",
    "# Data Management\n",
    "list(data.columns.values)"
   ]
  },
  {
   "cell_type": "code",
   "execution_count": 12,
   "metadata": {
    "collapsed": false
   },
   "outputs": [
    {
     "data": {
      "text/html": [
       "<div>\n",
       "<table border=\"1\" class=\"dataframe\">\n",
       "  <thead>\n",
       "    <tr style=\"text-align: right;\">\n",
       "      <th></th>\n",
       "      <th>NAME</th>\n",
       "      <th>MON/WED/FRI (FRIDAYS UNTIL 5:00 PM)</th>\n",
       "      <th>TUE/THU</th>\n",
       "      <th>SATURDAY</th>\n",
       "      <th>SUNDAY</th>\n",
       "    </tr>\n",
       "  </thead>\n",
       "  <tbody>\n",
       "    <tr>\n",
       "      <th>0</th>\n",
       "      <td>Davis Allen</td>\n",
       "      <td>Opening (7:30am-10am)</td>\n",
       "      <td>Opening (7:30am-10am), Morning (10am-1pm)</td>\n",
       "      <td>NaN</td>\n",
       "      <td>NaN</td>\n",
       "    </tr>\n",
       "    <tr>\n",
       "      <th>1</th>\n",
       "      <td>Dante Dalla Gasperina</td>\n",
       "      <td>Opening (7:30am-10am), Mid Day (1pm-4pm) (Frid...</td>\n",
       "      <td>Mid Day (1pm-4pm)</td>\n",
       "      <td>NaN</td>\n",
       "      <td>NaN</td>\n",
       "    </tr>\n",
       "    <tr>\n",
       "      <th>2</th>\n",
       "      <td>JT Tran</td>\n",
       "      <td>Morning (10am-1pm), Mid Day (1pm-4pm) (Fridays...</td>\n",
       "      <td>NaN</td>\n",
       "      <td>NaN</td>\n",
       "      <td>NaN</td>\n",
       "    </tr>\n",
       "    <tr>\n",
       "      <th>3</th>\n",
       "      <td>Grecia Escobar</td>\n",
       "      <td>Morning (10am-1pm), Mid Day (1pm-4pm) (Fridays...</td>\n",
       "      <td>Opening (7:30am-10am), Morning (10am-1pm)</td>\n",
       "      <td>NaN</td>\n",
       "      <td>NaN</td>\n",
       "    </tr>\n",
       "    <tr>\n",
       "      <th>4</th>\n",
       "      <td>Stewart Allen</td>\n",
       "      <td>Afternoon (4pm-7pm), Closing (7pm-10pm)</td>\n",
       "      <td>Opening (7:30am-10am), Mid Day (1pm-4pm), Afte...</td>\n",
       "      <td>Afternoon (1pm-5pm)</td>\n",
       "      <td>Afternoon (1pm-6pm)</td>\n",
       "    </tr>\n",
       "    <tr>\n",
       "      <th>5</th>\n",
       "      <td>Francesco Petrini</td>\n",
       "      <td>Mid Day (1pm-4pm) (Fridays 1pm-5pm), Afternoon...</td>\n",
       "      <td>Mid Day (1pm-4pm), Afternoon (4pm-7pm), Closin...</td>\n",
       "      <td>NaN</td>\n",
       "      <td>NaN</td>\n",
       "    </tr>\n",
       "    <tr>\n",
       "      <th>6</th>\n",
       "      <td>Jessica Battad</td>\n",
       "      <td>Opening (7:30am-10am), Morning (10am-1pm)</td>\n",
       "      <td>Opening (7:30am-10am)</td>\n",
       "      <td>NaN</td>\n",
       "      <td>NaN</td>\n",
       "    </tr>\n",
       "    <tr>\n",
       "      <th>7</th>\n",
       "      <td>Deion Graham-Long</td>\n",
       "      <td>Mid Day (1pm-4pm) (Fridays 1pm-5pm)</td>\n",
       "      <td>Mid Day (1pm-4pm), Afternoon (4pm-7pm)</td>\n",
       "      <td>Afternoon (1pm-5pm)</td>\n",
       "      <td>Afternoon (1pm-6pm)</td>\n",
       "    </tr>\n",
       "    <tr>\n",
       "      <th>8</th>\n",
       "      <td>Pranav Bheda</td>\n",
       "      <td>Morning (10am-1pm), Afternoon (4pm-7pm)</td>\n",
       "      <td>Morning (10am-1pm), Afternoon (4pm-7pm), Closi...</td>\n",
       "      <td>NaN</td>\n",
       "      <td>NaN</td>\n",
       "    </tr>\n",
       "    <tr>\n",
       "      <th>9</th>\n",
       "      <td>Brendan Appelman</td>\n",
       "      <td>Afternoon (4pm-7pm)</td>\n",
       "      <td>Closing (7pm-10pm)</td>\n",
       "      <td>NaN</td>\n",
       "      <td>NaN</td>\n",
       "    </tr>\n",
       "    <tr>\n",
       "      <th>10</th>\n",
       "      <td>Andrew Schmidt</td>\n",
       "      <td>Morning (10am-1pm), Mid Day (1pm-4pm) (Fridays...</td>\n",
       "      <td>Mid Day (1pm-4pm)</td>\n",
       "      <td>NaN</td>\n",
       "      <td>Afternoon (1pm-6pm), Closing (6pm-10pm)</td>\n",
       "    </tr>\n",
       "    <tr>\n",
       "      <th>11</th>\n",
       "      <td>Natalie Neumann</td>\n",
       "      <td>Closing (7pm-10pm)</td>\n",
       "      <td>Opening (7:30am-10am), Morning (10am-1pm)</td>\n",
       "      <td>NaN</td>\n",
       "      <td>Closing (6pm-10pm)</td>\n",
       "    </tr>\n",
       "    <tr>\n",
       "      <th>12</th>\n",
       "      <td>Tasmine Hackson</td>\n",
       "      <td>Closing (7pm-10pm)</td>\n",
       "      <td>NaN</td>\n",
       "      <td>NaN</td>\n",
       "      <td>Afternoon (1pm-6pm), Closing (6pm-10pm)</td>\n",
       "    </tr>\n",
       "    <tr>\n",
       "      <th>13</th>\n",
       "      <td>Robert Scalzo</td>\n",
       "      <td>Morning (10am-1pm), Closing (7pm-10pm)</td>\n",
       "      <td>Afternoon (4pm-7pm), Closing (7pm-10pm)</td>\n",
       "      <td>Afternoon (1pm-5pm)</td>\n",
       "      <td>Afternoon (1pm-6pm), Closing (6pm-10pm)</td>\n",
       "    </tr>\n",
       "    <tr>\n",
       "      <th>14</th>\n",
       "      <td>Sanjay Tamizharasu</td>\n",
       "      <td>Morning (10am-1pm), Mid Day (1pm-4pm) (Fridays...</td>\n",
       "      <td>Morning (10am-1pm), Mid Day (1pm-4pm)</td>\n",
       "      <td>NaN</td>\n",
       "      <td>Closing (6pm-10pm)</td>\n",
       "    </tr>\n",
       "    <tr>\n",
       "      <th>15</th>\n",
       "      <td>Daniel Jensen</td>\n",
       "      <td>Mid Day (1pm-4pm) (Fridays 1pm-5pm)</td>\n",
       "      <td>NaN</td>\n",
       "      <td>Afternoon (1pm-5pm)</td>\n",
       "      <td>Afternoon (1pm-6pm), Closing (6pm-10pm)</td>\n",
       "    </tr>\n",
       "    <tr>\n",
       "      <th>16</th>\n",
       "      <td>Dominic Komarek</td>\n",
       "      <td>Closing (7pm-10pm)</td>\n",
       "      <td>Afternoon (4pm-7pm), Closing (7pm-10pm)</td>\n",
       "      <td>NaN</td>\n",
       "      <td>NaN</td>\n",
       "    </tr>\n",
       "    <tr>\n",
       "      <th>17</th>\n",
       "      <td>Parker Gribb</td>\n",
       "      <td>Opening (7:30am-10am), Mid Day (1pm-4pm) (Frid...</td>\n",
       "      <td>Opening (7:30am-10am), Closing (7pm-10pm)</td>\n",
       "      <td>NaN</td>\n",
       "      <td>Closing (6pm-10pm)</td>\n",
       "    </tr>\n",
       "    <tr>\n",
       "      <th>18</th>\n",
       "      <td>Andrew Yu</td>\n",
       "      <td>NaN</td>\n",
       "      <td>Morning (10am-1pm), Mid Day (1pm-4pm), Afterno...</td>\n",
       "      <td>NaN</td>\n",
       "      <td>NaN</td>\n",
       "    </tr>\n",
       "    <tr>\n",
       "      <th>19</th>\n",
       "      <td>Tristan Nortier-Tilly</td>\n",
       "      <td>Mid Day (1pm-4pm) (Fridays 1pm-5pm), Afternoon...</td>\n",
       "      <td>Morning (10am-1pm), Mid Day (1pm-4pm)</td>\n",
       "      <td>NaN</td>\n",
       "      <td>Closing (6pm-10pm)</td>\n",
       "    </tr>\n",
       "  </tbody>\n",
       "</table>\n",
       "</div>"
      ],
      "text/plain": [
       "                     NAME                MON/WED/FRI (FRIDAYS UNTIL 5:00 PM)  \\\n",
       "0             Davis Allen                              Opening (7:30am-10am)   \n",
       "1   Dante Dalla Gasperina  Opening (7:30am-10am), Mid Day (1pm-4pm) (Frid...   \n",
       "2                 JT Tran  Morning (10am-1pm), Mid Day (1pm-4pm) (Fridays...   \n",
       "3          Grecia Escobar  Morning (10am-1pm), Mid Day (1pm-4pm) (Fridays...   \n",
       "4           Stewart Allen            Afternoon (4pm-7pm), Closing (7pm-10pm)   \n",
       "5       Francesco Petrini  Mid Day (1pm-4pm) (Fridays 1pm-5pm), Afternoon...   \n",
       "6          Jessica Battad          Opening (7:30am-10am), Morning (10am-1pm)   \n",
       "7       Deion Graham-Long                Mid Day (1pm-4pm) (Fridays 1pm-5pm)   \n",
       "8            Pranav Bheda            Morning (10am-1pm), Afternoon (4pm-7pm)   \n",
       "9        Brendan Appelman                                Afternoon (4pm-7pm)   \n",
       "10         Andrew Schmidt  Morning (10am-1pm), Mid Day (1pm-4pm) (Fridays...   \n",
       "11        Natalie Neumann                                 Closing (7pm-10pm)   \n",
       "12        Tasmine Hackson                                 Closing (7pm-10pm)   \n",
       "13          Robert Scalzo             Morning (10am-1pm), Closing (7pm-10pm)   \n",
       "14     Sanjay Tamizharasu  Morning (10am-1pm), Mid Day (1pm-4pm) (Fridays...   \n",
       "15          Daniel Jensen                Mid Day (1pm-4pm) (Fridays 1pm-5pm)   \n",
       "16        Dominic Komarek                                 Closing (7pm-10pm)   \n",
       "17           Parker Gribb  Opening (7:30am-10am), Mid Day (1pm-4pm) (Frid...   \n",
       "18              Andrew Yu                                                NaN   \n",
       "19  Tristan Nortier-Tilly  Mid Day (1pm-4pm) (Fridays 1pm-5pm), Afternoon...   \n",
       "\n",
       "                                              TUE/THU             SATURDAY  \\\n",
       "0           Opening (7:30am-10am), Morning (10am-1pm)                  NaN   \n",
       "1                                   Mid Day (1pm-4pm)                  NaN   \n",
       "2                                                 NaN                  NaN   \n",
       "3           Opening (7:30am-10am), Morning (10am-1pm)                  NaN   \n",
       "4   Opening (7:30am-10am), Mid Day (1pm-4pm), Afte...  Afternoon (1pm-5pm)   \n",
       "5   Mid Day (1pm-4pm), Afternoon (4pm-7pm), Closin...                  NaN   \n",
       "6                               Opening (7:30am-10am)                  NaN   \n",
       "7              Mid Day (1pm-4pm), Afternoon (4pm-7pm)  Afternoon (1pm-5pm)   \n",
       "8   Morning (10am-1pm), Afternoon (4pm-7pm), Closi...                  NaN   \n",
       "9                                  Closing (7pm-10pm)                  NaN   \n",
       "10                                  Mid Day (1pm-4pm)                  NaN   \n",
       "11          Opening (7:30am-10am), Morning (10am-1pm)                  NaN   \n",
       "12                                                NaN                  NaN   \n",
       "13            Afternoon (4pm-7pm), Closing (7pm-10pm)  Afternoon (1pm-5pm)   \n",
       "14              Morning (10am-1pm), Mid Day (1pm-4pm)                  NaN   \n",
       "15                                                NaN  Afternoon (1pm-5pm)   \n",
       "16            Afternoon (4pm-7pm), Closing (7pm-10pm)                  NaN   \n",
       "17          Opening (7:30am-10am), Closing (7pm-10pm)                  NaN   \n",
       "18  Morning (10am-1pm), Mid Day (1pm-4pm), Afterno...                  NaN   \n",
       "19              Morning (10am-1pm), Mid Day (1pm-4pm)                  NaN   \n",
       "\n",
       "                                     SUNDAY  \n",
       "0                                       NaN  \n",
       "1                                       NaN  \n",
       "2                                       NaN  \n",
       "3                                       NaN  \n",
       "4                       Afternoon (1pm-6pm)  \n",
       "5                                       NaN  \n",
       "6                                       NaN  \n",
       "7                       Afternoon (1pm-6pm)  \n",
       "8                                       NaN  \n",
       "9                                       NaN  \n",
       "10  Afternoon (1pm-6pm), Closing (6pm-10pm)  \n",
       "11                       Closing (6pm-10pm)  \n",
       "12  Afternoon (1pm-6pm), Closing (6pm-10pm)  \n",
       "13  Afternoon (1pm-6pm), Closing (6pm-10pm)  \n",
       "14                       Closing (6pm-10pm)  \n",
       "15  Afternoon (1pm-6pm), Closing (6pm-10pm)  \n",
       "16                                      NaN  \n",
       "17                       Closing (6pm-10pm)  \n",
       "18                                      NaN  \n",
       "19                       Closing (6pm-10pm)  "
      ]
     },
     "execution_count": 12,
     "metadata": {},
     "output_type": "execute_result"
    }
   ],
   "source": [
    "clean_data = data[needed] #Necessary Columns\n",
    "clean_data"
   ]
  },
  {
   "cell_type": "code",
   "execution_count": 13,
   "metadata": {
    "collapsed": true
   },
   "outputs": [],
   "source": [
    "f = open(\"/Users/Rohit/Desktop/test.txt\",'w')"
   ]
  },
  {
   "cell_type": "code",
   "execution_count": 14,
   "metadata": {
    "collapsed": false
   },
   "outputs": [],
   "source": [
    "for i in range(1, clean_data.shape[1]):\n",
    "    temp = clean_data[pd.notnull(clean_data[needed[i]])]\n",
    "    col = [needed[0], needed[i]]\n",
    "    \n",
    "    #Needed data at a time\n",
    "    temp = temp[col] \n",
    "    \n",
    "    #Splitting shifts\n",
    "    s = temp[needed[i]].str.split(',').apply(Series, 1).stack()\n",
    "    s.index = s.index.droplevel(-1)\n",
    "    s.name = needed[i]\n",
    "    del temp[needed[i]]\n",
    "    temp = temp.join(s).reset_index(drop=True)\n",
    "    \n",
    "    #Applying check() to convert to readable form\n",
    "    for j in range(0, temp.shape[0]):\n",
    "        #check(temp.at[j, needed[0]], temp.at[j, needed[i]], needed[i]) (Name, reference, colname)\n",
    "        temp.at[j, needed[i]] =  check(temp.at[j, needed[i]], needed[i])\n",
    "        \n",
    "    temp.join(temp[needed[i]].apply(lambda x: Series(x.split(','))))\n",
    "    if(needed[i].upper()=='MON/WED/FRI (FRIDAYS UNTIL 5:00 PM)'):\n",
    "        mwf = temp\n",
    "    #temp.to_csv(r\"/Users/Rohit/Desktop/test.txt\", header='\\n', index=None, mode='a', sep=':')\n",
    "    "
   ]
  },
  {
   "cell_type": "code",
   "execution_count": 18,
   "metadata": {
    "collapsed": false
   },
   "outputs": [
    {
     "data": {
      "text/html": [
       "<div>\n",
       "<table border=\"1\" class=\"dataframe\">\n",
       "  <thead>\n",
       "    <tr style=\"text-align: right;\">\n",
       "      <th></th>\n",
       "      <th>NAME</th>\n",
       "      <th>MON/WED/FRI (FRIDAYS UNTIL 5:00 PM)</th>\n",
       "    </tr>\n",
       "  </thead>\n",
       "  <tbody>\n",
       "    <tr>\n",
       "      <th>0</th>\n",
       "      <td>Davis Allen</td>\n",
       "      <td>Monday 07:30 AM - 10:00 AM, Wednesday 07:30 AM...</td>\n",
       "    </tr>\n",
       "    <tr>\n",
       "      <th>1</th>\n",
       "      <td>Dante Dalla Gasperina</td>\n",
       "      <td>Monday 07:30 AM - 10:00 AM, Wednesday 07:30 AM...</td>\n",
       "    </tr>\n",
       "    <tr>\n",
       "      <th>2</th>\n",
       "      <td>Dante Dalla Gasperina</td>\n",
       "      <td>Monday 01:00 PM - 04:00 PM, Wednesday 01:00 PM...</td>\n",
       "    </tr>\n",
       "    <tr>\n",
       "      <th>3</th>\n",
       "      <td>JT Tran</td>\n",
       "      <td>Monday 10:00 AM - 01:00 PM, Wednesday 10:00 AM...</td>\n",
       "    </tr>\n",
       "    <tr>\n",
       "      <th>4</th>\n",
       "      <td>JT Tran</td>\n",
       "      <td>Monday 01:00 PM - 04:00 PM, Wednesday 01:00 PM...</td>\n",
       "    </tr>\n",
       "  </tbody>\n",
       "</table>\n",
       "</div>"
      ],
      "text/plain": [
       "                    NAME                MON/WED/FRI (FRIDAYS UNTIL 5:00 PM)\n",
       "0            Davis Allen  Monday 07:30 AM - 10:00 AM, Wednesday 07:30 AM...\n",
       "1  Dante Dalla Gasperina  Monday 07:30 AM - 10:00 AM, Wednesday 07:30 AM...\n",
       "2  Dante Dalla Gasperina  Monday 01:00 PM - 04:00 PM, Wednesday 01:00 PM...\n",
       "3                JT Tran  Monday 10:00 AM - 01:00 PM, Wednesday 10:00 AM...\n",
       "4                JT Tran  Monday 01:00 PM - 04:00 PM, Wednesday 01:00 PM..."
      ]
     },
     "execution_count": 18,
     "metadata": {},
     "output_type": "execute_result"
    }
   ],
   "source": [
    "mwf.head()"
   ]
  },
  {
   "cell_type": "code",
   "execution_count": 31,
   "metadata": {
    "collapsed": false
   },
   "outputs": [
    {
     "ename": "AttributeError",
     "evalue": "'NoneType' object has no attribute 'split'",
     "output_type": "error",
     "traceback": [
      "\u001b[0;31m---------------------------------------------------------------------------\u001b[0m",
      "\u001b[0;31mAttributeError\u001b[0m                            Traceback (most recent call last)",
      "\u001b[0;32m<ipython-input-31-1ae5f7cb49e0>\u001b[0m in \u001b[0;36m<module>\u001b[0;34m()\u001b[0m\n\u001b[1;32m      3\u001b[0m \u001b[0;34m\u001b[0m\u001b[0m\n\u001b[1;32m      4\u001b[0m \u001b[0;32mfor\u001b[0m \u001b[0mj\u001b[0m \u001b[0;32min\u001b[0m \u001b[0mrange\u001b[0m\u001b[0;34m(\u001b[0m\u001b[0;36m0\u001b[0m\u001b[0;34m,\u001b[0m \u001b[0mmwf\u001b[0m\u001b[0;34m.\u001b[0m\u001b[0mshape\u001b[0m\u001b[0;34m[\u001b[0m\u001b[0;36m0\u001b[0m\u001b[0;34m]\u001b[0m\u001b[0;34m)\u001b[0m\u001b[0;34m:\u001b[0m\u001b[0;34m\u001b[0m\u001b[0m\n\u001b[0;32m----> 5\u001b[0;31m     \u001b[0mmwf\u001b[0m\u001b[0;34m.\u001b[0m\u001b[0mat\u001b[0m\u001b[0;34m[\u001b[0m\u001b[0mj\u001b[0m\u001b[0;34m,\u001b[0m \u001b[0mneeded\u001b[0m\u001b[0;34m[\u001b[0m\u001b[0;36m1\u001b[0m\u001b[0;34m]\u001b[0m\u001b[0;34m]\u001b[0m \u001b[0;34m=\u001b[0m \u001b[0msplitter\u001b[0m\u001b[0;34m(\u001b[0m\u001b[0mmwf\u001b[0m\u001b[0;34m.\u001b[0m\u001b[0mat\u001b[0m\u001b[0;34m[\u001b[0m\u001b[0mj\u001b[0m\u001b[0;34m,\u001b[0m \u001b[0mneeded\u001b[0m\u001b[0;34m[\u001b[0m\u001b[0;36m1\u001b[0m\u001b[0;34m]\u001b[0m\u001b[0;34m]\u001b[0m\u001b[0;34m)\u001b[0m\u001b[0;34m\u001b[0m\u001b[0m\n\u001b[0m\u001b[1;32m      6\u001b[0m \u001b[0;34m\u001b[0m\u001b[0m\n\u001b[1;32m      7\u001b[0m \u001b[0mprint\u001b[0m\u001b[0;34m(\u001b[0m\u001b[0mmwf\u001b[0m\u001b[0;34m)\u001b[0m\u001b[0;34m\u001b[0m\u001b[0m\n",
      "\u001b[0;32m<ipython-input-31-1ae5f7cb49e0>\u001b[0m in \u001b[0;36msplitter\u001b[0;34m(x)\u001b[0m\n\u001b[1;32m      1\u001b[0m \u001b[0;32mdef\u001b[0m \u001b[0msplitter\u001b[0m\u001b[0;34m(\u001b[0m\u001b[0mx\u001b[0m\u001b[0;34m)\u001b[0m\u001b[0;34m:\u001b[0m\u001b[0;34m\u001b[0m\u001b[0m\n\u001b[0;32m----> 2\u001b[0;31m     \u001b[0mx\u001b[0m\u001b[0;34m.\u001b[0m\u001b[0msplit\u001b[0m\u001b[0;34m(\u001b[0m\u001b[0;34m','\u001b[0m\u001b[0;34m)\u001b[0m\u001b[0;34m\u001b[0m\u001b[0m\n\u001b[0m\u001b[1;32m      3\u001b[0m \u001b[0;34m\u001b[0m\u001b[0m\n\u001b[1;32m      4\u001b[0m \u001b[0;32mfor\u001b[0m \u001b[0mj\u001b[0m \u001b[0;32min\u001b[0m \u001b[0mrange\u001b[0m\u001b[0;34m(\u001b[0m\u001b[0;36m0\u001b[0m\u001b[0;34m,\u001b[0m \u001b[0mmwf\u001b[0m\u001b[0;34m.\u001b[0m\u001b[0mshape\u001b[0m\u001b[0;34m[\u001b[0m\u001b[0;36m0\u001b[0m\u001b[0;34m]\u001b[0m\u001b[0;34m)\u001b[0m\u001b[0;34m:\u001b[0m\u001b[0;34m\u001b[0m\u001b[0m\n\u001b[1;32m      5\u001b[0m     \u001b[0mmwf\u001b[0m\u001b[0;34m.\u001b[0m\u001b[0mat\u001b[0m\u001b[0;34m[\u001b[0m\u001b[0mj\u001b[0m\u001b[0;34m,\u001b[0m \u001b[0mneeded\u001b[0m\u001b[0;34m[\u001b[0m\u001b[0;36m1\u001b[0m\u001b[0;34m]\u001b[0m\u001b[0;34m]\u001b[0m \u001b[0;34m=\u001b[0m \u001b[0msplitter\u001b[0m\u001b[0;34m(\u001b[0m\u001b[0mmwf\u001b[0m\u001b[0;34m.\u001b[0m\u001b[0mat\u001b[0m\u001b[0;34m[\u001b[0m\u001b[0mj\u001b[0m\u001b[0;34m,\u001b[0m \u001b[0mneeded\u001b[0m\u001b[0;34m[\u001b[0m\u001b[0;36m1\u001b[0m\u001b[0;34m]\u001b[0m\u001b[0;34m]\u001b[0m\u001b[0;34m)\u001b[0m\u001b[0;34m\u001b[0m\u001b[0m\n",
      "\u001b[0;31mAttributeError\u001b[0m: 'NoneType' object has no attribute 'split'"
     ]
    }
   ],
   "source": [
    "def splitter(x):\n",
    "    x.split(',')\n",
    "\n",
    "for j in range(0, mwf.shape[0]):\n",
    "    mwf.at[j, needed[1]] = splitter(mwf.at[j, needed[1]])\n",
    "\n",
    "print(mwf)"
   ]
  },
  {
   "cell_type": "code",
   "execution_count": 29,
   "metadata": {
    "collapsed": false
   },
   "outputs": [
    {
     "name": "stdout",
     "output_type": "stream",
     "text": [
      "<pandas.core.indexing._AtIndexer object at 0x11a159eb8>\n"
     ]
    }
   ],
   "source": [
    "print(mwf.at(30, \"MON/WED/FRI (FRIDAYS UNTIL 5:00 PM)\"))"
   ]
  },
  {
   "cell_type": "code",
   "execution_count": null,
   "metadata": {
    "collapsed": true
   },
   "outputs": [],
   "source": []
  }
 ],
 "metadata": {
  "kernelspec": {
   "display_name": "Python 3",
   "language": "python",
   "name": "python3"
  },
  "language_info": {
   "codemirror_mode": {
    "name": "ipython",
    "version": 3
   },
   "file_extension": ".py",
   "mimetype": "text/x-python",
   "name": "python",
   "nbconvert_exporter": "python",
   "pygments_lexer": "ipython3",
   "version": "3.5.1"
  }
 },
 "nbformat": 4,
 "nbformat_minor": 0
}

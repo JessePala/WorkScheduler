{
 "cells": [
  {
   "cell_type": "code",
   "execution_count": 8,
   "metadata": {
    "collapsed": true
   },
   "outputs": [],
   "source": [
    "from pandas import Series, DataFrame\n",
    "import pandas as pd\n",
    "import numpy as np\n",
    "import matplotlib.pylab as plt\n",
    "from sklearn.cross_validation import train_test_split\n",
    "from sklearn import preprocessing\n",
    "import dateutil.parser\n",
    "#yourdate = dateutil.parser.parse(datestring)\n",
    "from time import gmtime, strftime\n",
    "\n",
    "#For GUI\n",
    "import tkinter as tk\n",
    "from tkinter import *\n",
    "from tkinter import filedialog as tkFileDialog"
   ]
  },
  {
   "cell_type": "code",
   "execution_count": 9,
   "metadata": {
    "collapsed": true
   },
   "outputs": [],
   "source": [
    "needed = [\"NAME\", \"MON/WED/FRI (FRIDAYS UNTIL 5:00 PM)\", \"TUE/THU\", \"SATURDAY\", \"SUNDAY\"]\n",
    "days = [\"Monday\", \"Tuesday\", \"Wednesday\", \"Thursday\", \"Friday\", \"Saturday\", \"Sunday\"]\n",
    "#If needed declarations"
   ]
  },
  {
   "cell_type": "code",
   "execution_count": 10,
   "metadata": {
    "collapsed": false
   },
   "outputs": [],
   "source": [
    "#ref is column entry, col is column name\n",
    "def check(ref, col):\n",
    "    day = [\"\"]\n",
    "    time = \"\"\n",
    "    #MWF\n",
    "    if col == needed[1]:\n",
    "        day = [days[0], days[2], days[4]]\n",
    "    #TT\n",
    "    elif col == needed[2]:\n",
    "        day = [days[1], days[3]]\n",
    "    #SAT\n",
    "    elif col == needed[3]:\n",
    "        day = [days[5]]\n",
    "    #SUN\n",
    "    elif col == needed[4]:\n",
    "        day = [days[6]]\n",
    "\n",
    "    for i in range(0, len(day)):\n",
    "        #Check if time is empty to avoid comma at the start and build the string\n",
    "        if not time:\n",
    "            time = day[i] + \", \" +duration(day[i], ref)\n",
    "        else:\n",
    "            time = time +\"; \"+ day[i] + \",\" +duration(day[i], ref)\n",
    "    return time\n",
    "\n",
    "    #return day"
   ]
  },
  {
   "cell_type": "code",
   "execution_count": 11,
   "metadata": {
    "collapsed": false
   },
   "outputs": [],
   "source": [
    "def duration(day, reference):\n",
    "    starttime = stoptime = 'null' \n",
    "    #print(\"Entered duration\")\n",
    "    if day.lower() == \"Sunday\".lower() or day.lower() == \"Satuday\".lower():\n",
    "            starttime = stoptime = dateutil.parser.parse(\"12:00AM\").time()  \n",
    "            \n",
    "            if reference.find(\"Afternoon\") != -1:\n",
    "                starttime = dateutil.parser.parse(\"1PM\").time()\n",
    "                if day.lower() == \"Sunday\".lower():\n",
    "                    stoptime = dateutil.parser.parse(\"6PM\") .time() \n",
    "                else:\n",
    "                    stoptime = dateutil.parser.parse(\"5PM\") .time()\n",
    "                    \n",
    "            elif reference.find(\"Closing\") != -1:\n",
    "                starttime = dateutil.parser.parse(\"6PM\").time()\n",
    "                stoptime = dateutil.parser.parse(\"10PM\") .time() \n",
    "                \n",
    "    else:\n",
    "        starttime = stoptime = dateutil.parser.parse(\"12:00AM\").time()\n",
    "        #print(\"Not Sunday or Saturday\")\n",
    "        if reference.find(\"Opening\") != -1:\n",
    "            #print(\"Entered Opening\")\n",
    "            starttime = dateutil.parser.parse(\"7:30AM\").time()\n",
    "            stoptime = dateutil.parser.parse(\"10AM\") .time()   \n",
    "             \n",
    "        elif reference.find(\"Morning\") != -1:\n",
    "            #print(\"Entered Morning\")  \n",
    "            starttime = dateutil.parser.parse(\"10AM\").time()\n",
    "            stoptime = dateutil.parser.parse(\"1PM\") .time() \n",
    "         \n",
    "        elif reference.find(\"Mid Day\") != -1:\n",
    "            #print(\"Entered Mid Day\")  \n",
    "            starttime = dateutil.parser.parse(\"1PM\").time()\n",
    "            if day.lower() == \"Friday\".lower():\n",
    "                stoptime = dateutil.parser.parse(\"5PM\") .time() \n",
    "            else:\n",
    "                stoptime = dateutil.parser.parse(\"4PM\") .time() \n",
    "                \n",
    "        elif reference.find(\"Afternoon\") != -1:\n",
    "            starttime = dateutil.parser.parse(\"4PM\").time()\n",
    "            stoptime = dateutil.parser.parse(\"7PM\") .time() \n",
    "            \n",
    "        elif reference.find(\"Closing\") != -1:\n",
    "            starttime = dateutil.parser.parse(\"7PM\").time()\n",
    "            stoptime = dateutil.parser.parse(\"10PM\") .time() \n",
    "                \n",
    "    timeframe = starttime.strftime(\"%I:%M %p\") + \" - \" + stoptime.strftime(\"%I:%M %p\")            \n",
    "    return timeframe"
   ]
  },
  {
   "cell_type": "code",
   "execution_count": 12,
   "metadata": {
    "collapsed": false
   },
   "outputs": [],
   "source": [
    "def daysplit(ref):\n",
    "    return ref.split(\",\")[1]\n",
    "\n",
    "def starttime(ref):\n",
    "    return dateutil.parser.parse(ref.split(\"-\")[0]).time()\n",
    "\n",
    "def stoptime(ref):\n",
    "    return dateutil.parser.parse(ref.split(\"-\")[1]).time()"
   ]
  },
  {
   "cell_type": "code",
   "execution_count": 13,
   "metadata": {
    "collapsed": false
   },
   "outputs": [],
   "source": [
    "def scheduler(filename):\n",
    "    data = pd.read_csv(filename)\n",
    "    data.columns = map(str.upper, data.columns)\n",
    "\n",
    "    # Data Management\n",
    "    list(data.columns.values)\n",
    "    clean_data = data[needed] #Necessary Columns\n",
    "\n",
    "    for i in range(1, clean_data.shape[1]):\n",
    "        temp = clean_data[pd.notnull(clean_data[needed[i]])]\n",
    "\n",
    "        #Needed data at a time\n",
    "        col = [needed[0], needed[i]]\n",
    "        temp = temp[col] \n",
    "\n",
    "        #Splitting shifts initially from csv dataframe import\n",
    "        s = temp[needed[i]].str.split(',').apply(Series, 1).stack()\n",
    "        s.index = s.index.droplevel(-1)\n",
    "        s.name = needed[i]\n",
    "        del temp[needed[i]]\n",
    "        temp = temp.join(s).reset_index(drop=True)\n",
    "\n",
    "        #Applying check() to convert to readable form for every row (shape[0])\n",
    "        for j in range(0, temp.shape[0]): \n",
    "            #Cleaning the 2nd column\n",
    "            temp.at[j, needed[i]] =  check(temp.at[j, needed[i]], needed[i]) #check(reference, day)\n",
    "            #Splitting single availability column to day-by-day columns\n",
    "            new = pd.DataFrame(temp[needed[i]].apply(lambda x: x.split('; ')).values.tolist())\n",
    "            #Merge the day-by-day with the name column to get the desired result\n",
    "            result = pd.concat([temp[needed[0]], new], axis=1)    \n",
    "\n",
    "        #Test Case\n",
    "        if(i == 1):\n",
    "            mwf = result\n",
    "        elif(i == 2):\n",
    "            tt = result\n",
    "        elif(i == 3):\n",
    "            sat = result\n",
    "        elif(i == 4):\n",
    "            sun = result\n",
    "\n",
    "    mon = mwf[[needed[0], 0]]\n",
    "    #Wednesday\n",
    "    wed = mwf[[needed[0], 1]]\n",
    "    #Friday\n",
    "    fri = mwf[[needed[0], 2]]\n",
    "    #Tuesday\n",
    "    tue = tt[[needed[0], 0]]\n",
    "    #Thursday\n",
    "    thu = tt[[needed[0], 1]]\n",
    "\n",
    "    week = [mon, tue, wed, thu, fri, sat, sun]\n",
    "    counter = 0 \n",
    "    weekname = ['Monday', 'Tuesday', 'Wednesday', 'Thursday', 'Friday', 'Saturday', 'Sunday']\n",
    "    weekname[0]\n",
    "\n",
    "    #Into Files\n",
    "    for day in week:\n",
    "        f = open(\"/Users/Rohit/Desktop/%s.txt\" % str(counter), \"w\") \n",
    "        for i in range(0, len(day)):\n",
    "            #day[day.columns[1]].str.replace(day[day.columns[1]], day[day.columns[1]].str.split(',')[i][1])\n",
    "            #WORKS! \n",
    "            #day[day.columns[1]].apply(lambda x: finalsplitter(x))\n",
    "\n",
    "            day.loc[i,day.columns[1]] = daysplit(day.loc[i,day.columns[1]])\n",
    "            day[\"START\"] = day[day.columns[1]].apply(lambda x: starttime(x))\n",
    "            day[\"STOP\"] = day[day.columns[1]].apply(lambda x: stoptime(x))\n",
    "        new = day.sort_values(by=\"START\")\n",
    "        day = new\n",
    "        day.to_csv(r\"/Users/Rohit/Desktop/%s.txt\" % str(weekname[counter]), header='\\n', index=None, mode='a', sep='\\t')\n",
    "        counter = counter + 1\n",
    "        print(day)\n",
    "\n",
    "    f.close()"
   ]
  },
  {
   "cell_type": "code",
   "execution_count": 14,
   "metadata": {
    "collapsed": false
   },
   "outputs": [
    {
     "data": {
      "text/plain": [
       "'04:00 PM - 07:00 PM'"
      ]
     },
     "execution_count": 14,
     "metadata": {},
     "output_type": "execute_result"
    }
   ],
   "source": [
    "#Test duration\n",
    "duration('Friday', 'Afternoon')"
   ]
  },
  {
   "cell_type": "code",
   "execution_count": 15,
   "metadata": {
    "collapsed": false
   },
   "outputs": [
    {
     "data": {
      "text/plain": [
       "'Monday, 01:00 PM - 04:00 PM; Wednesday,01:00 PM - 04:00 PM; Friday,01:00 PM - 05:00 PM'"
      ]
     },
     "execution_count": 15,
     "metadata": {},
     "output_type": "execute_result"
    }
   ],
   "source": [
    "#Testing Check function\n",
    "check('Mid Day (1pm-4pm) (Fridays 1pm-5pm)','MON/WED/FRI (FRIDAYS UNTIL 5:00 PM)')"
   ]
  },
  {
   "cell_type": "code",
   "execution_count": 16,
   "metadata": {
    "collapsed": false
   },
   "outputs": [
    {
     "data": {
      "text/plain": [
       "'Tuesday, 10:00 AM - 01:00 PM; Thursday,10:00 AM - 01:00 PM'"
      ]
     },
     "execution_count": 16,
     "metadata": {},
     "output_type": "execute_result"
    }
   ],
   "source": [
    "#Test Check\n",
    "check('Morning (10am-1pm)', 'TUE/THU')"
   ]
  },
  {
   "cell_type": "code",
   "execution_count": 17,
   "metadata": {
    "collapsed": false
   },
   "outputs": [
    {
     "data": {
      "text/plain": [
       "datetime.time(7, 30)"
      ]
     },
     "execution_count": 17,
     "metadata": {},
     "output_type": "execute_result"
    }
   ],
   "source": [
    "#Test starttime\n",
    "starttime(daysplit(\"Monday, 07:30 AM - 10:00 AM\"))"
   ]
  },
  {
   "cell_type": "code",
   "execution_count": 18,
   "metadata": {
    "collapsed": false
   },
   "outputs": [
    {
     "data": {
      "text/plain": [
       "datetime.time(16, 0)"
      ]
     },
     "execution_count": 18,
     "metadata": {},
     "output_type": "execute_result"
    }
   ],
   "source": [
    "#Test stoptime\n",
    "stoptime(daysplit(\"Monday, 01:00 PM - 04:00 PM\"))"
   ]
  },
  {
   "cell_type": "code",
   "execution_count": null,
   "metadata": {
    "collapsed": true
   },
   "outputs": [],
   "source": [
    "class Redir(object):\n",
    "    # This is what we're using for the redirect, it needs a text box\n",
    "    def __init__(self, textbox):\n",
    "        self.textbox = textbox\n",
    "        self.textbox.config(state=NORMAL)\n",
    "        self.fileno = sys.stdout.fileno\n",
    "\n",
    "    def write(self, message):\n",
    "        # When you set this up as redirect it needs a write method as the\n",
    "        # stdin/out will be looking to write to somewhere!\n",
    "        self.textbox.insert(END, str(message))\n",
    "\n",
    "def askopenfilename():\n",
    "    \"\"\" Prints the selected files name \"\"\"\n",
    "    # get filename, this is the bit that opens up the dialog box this will\n",
    "    # return a string of the file name you have clicked on.\n",
    "    filename = tkFileDialog.askopenfilename()\n",
    "    if filename:\n",
    "        # Will print the file name to the text box\n",
    "        scheduler(filename)\n",
    "        print(filename)\n",
    "\n",
    "\n",
    "if __name__ == '__main__':\n",
    "\n",
    "    # Make the root window\n",
    "    root = Tk()\n",
    "\n",
    "    # Make a button to get the file name\n",
    "    # The method the button executes is the askopenfilename from above\n",
    "    # You don't use askopenfilename() because you only want to bind the button\n",
    "    # to the function, then the button calls the function.\n",
    "    button = Button(root, text='Select File', command=askopenfilename)\n",
    "    # this puts the button at the top in the middle\n",
    "    button.grid(row=1, column=1)\n",
    "\n",
    "    # Make a scroll bar so we can follow the text if it goes off a single box\n",
    "    scrollbar = Scrollbar(root, orient=VERTICAL)\n",
    "    # This puts the scrollbar on the right handside\n",
    "    scrollbar.grid(row=2, column=3, sticky=N+S+E)\n",
    "\n",
    "    # Make a text box to hold the text\n",
    "    textbox = Text(root,font=(\"Helvetica\",8),state=DISABLED, yscrollcommand=scrollbar.set, wrap=WORD)\n",
    "    # This puts the text box on the left hand side\n",
    "    textbox.grid(row=2, column=0, columnspan=3, sticky=N+S+W+E)\n",
    "\n",
    "    # Configure the scroll bar to stroll with the text box!\n",
    "    scrollbar.config(command=textbox.yview)\n",
    "\n",
    "    #Set up the redirect \n",
    "    stdre = Redir(textbox)\n",
    "    # Redirect stdout, stdout is where the standard messages are ouput\n",
    "    sys.stdout = stdre\n",
    "    # Redirect stderr, stderr is where the errors are printed too!\n",
    "    sys.stderr = stdre\n",
    "    # Print hello so we can see the redirect is working!\n",
    "    print(\"hello\")\n",
    "    # Start the application mainloop\n",
    "    root.mainloop()"
   ]
  },
  {
   "cell_type": "code",
   "execution_count": null,
   "metadata": {
    "collapsed": true
   },
   "outputs": [],
   "source": []
  }
 ],
 "metadata": {
  "kernelspec": {
   "display_name": "Python 3",
   "language": "python",
   "name": "python3"
  },
  "language_info": {
   "codemirror_mode": {
    "name": "ipython",
    "version": 3
   },
   "file_extension": ".py",
   "mimetype": "text/x-python",
   "name": "python",
   "nbconvert_exporter": "python",
   "pygments_lexer": "ipython3",
   "version": "3.5.1"
  }
 },
 "nbformat": 4,
 "nbformat_minor": 0
}

{
 "cells": [
  {
   "cell_type": "code",
   "execution_count": 16,
   "metadata": {
    "collapsed": false
   },
   "outputs": [],
   "source": [
    "import tkinter as tk\n",
    "from tkinter import *\n",
    "from tkinter import filedialog"
   ]
  },
  {
   "cell_type": "code",
   "execution_count": 12,
   "metadata": {
    "collapsed": false
   },
   "outputs": [],
   "source": [
    "root1 = tk.Tk()\n",
    "label = tk.Label(root1, text='our label widget')\n",
    "entry = tk.Entry(root1)\n",
    "label.pack(side=tk.TOP)\n",
    "entry.pack()\n",
    "root1.mainloop()"
   ]
  },
  {
   "cell_type": "code",
   "execution_count": 13,
   "metadata": {
    "collapsed": false
   },
   "outputs": [],
   "source": [
    "root2 = tk.Tk()\n",
    "label2 = tk.Label(root2, text='Choose a button')\n",
    "buttonstr = tk.StringVar()\n",
    "\n",
    "buttonA = tk.Radiobutton(root2, text='Button A', variable=buttonstr, value='ButtonA string')\n",
    "buttonB = tk.Radiobutton(root2, text='Button B', variable=buttonstr, value='ButtonB string')\n",
    "buttonC = tk.Radiobutton(root2, text='Button C', variable=buttonstr, value='ButtonC string')\n",
    "\n",
    "buttonA.config(command=showstr)\n",
    "buttonB.config(command=showstr)\n",
    "buttonC.config(command=showstr)\n",
    "\n",
    "label2.grid(column=0, row=0)\n",
    "buttonA.grid(column=0, row=1)\n",
    "buttonB.grid(column=0, row=2)\n",
    "buttonC.grid(column=0, row=3)\n",
    "\n",
    "\n",
    "root2.mainloop()"
   ]
  },
  {
   "cell_type": "code",
   "execution_count": 14,
   "metadata": {
    "collapsed": true
   },
   "outputs": [],
   "source": [
    "def showstr(event=None):\n",
    "    print(buttonstr.get())"
   ]
  },
  {
   "cell_type": "code",
   "execution_count": null,
   "metadata": {
    "collapsed": false
   },
   "outputs": [],
   "source": []
  },
  {
   "cell_type": "code",
   "execution_count": null,
   "metadata": {
    "collapsed": true
   },
   "outputs": [],
   "source": []
  },
  {
   "cell_type": "code",
   "execution_count": null,
   "metadata": {
    "collapsed": true
   },
   "outputs": [],
   "source": []
  }
 ],
 "metadata": {
  "kernelspec": {
   "display_name": "Python 3",
   "language": "python",
   "name": "python3"
  },
  "language_info": {
   "codemirror_mode": {
    "name": "ipython",
    "version": 3
   },
   "file_extension": ".py",
   "mimetype": "text/x-python",
   "name": "python",
   "nbconvert_exporter": "python",
   "pygments_lexer": "ipython3",
   "version": "3.5.1"
  }
 },
 "nbformat": 4,
 "nbformat_minor": 0
}
